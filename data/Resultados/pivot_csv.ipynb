{
 "cells": [
  {
   "cell_type": "markdown",
   "metadata": {},
   "source": [
    "Código para leer archivos que contienen los datos históricos del 2023 del torneo.\n",
    "El archivo Sub-14 a 18 tiene 3 hojas con las categorías, por eso tiene un flujo condicional el bloque de código para leer los dataFrames."
   ]
  },
  {
   "cell_type": "code",
   "execution_count": 1,
   "metadata": {},
   "outputs": [],
   "source": [
    "import os\n",
    "import pandas as pd"
   ]
  },
  {
   "cell_type": "code",
   "execution_count": 2,
   "metadata": {},
   "outputs": [],
   "source": [
    "path = \"./Excel/\"\n",
    "dataframes = []\n",
    "year = \"2023\""
   ]
  },
  {
   "cell_type": "code",
   "execution_count": 3,
   "metadata": {},
   "outputs": [],
   "source": [
    "for file in os.listdir(path):\n",
    "    if file.endswith(\".xlsx\"):\n",
    "        category = file.split(\".\")[0]\n",
    "\n",
    "        pathFile = os.path.join(path, file)\n",
    "        \n",
    "        sheets = pd.ExcelFile(pathFile).sheet_names\n",
    "\n",
    "        if len(sheets) == 1:\n",
    "            df = pd.read_excel(pathFile, names=[\"nombre\", \"1\", \"2\", \"3\", \"4\", \"5\", \"6\", \"7\", \"8\"], usecols=\"A, E:L\", skiprows=5 , header=None)\n",
    "            datos = pd.melt(df, id_vars=[\"nombre\"], value_vars=[\"1\", \"2\", \"3\", \"4\", \"5\", \"6\", \"7\", \"8\"], var_name=\"tournament\", value_name=\"puntos\")\n",
    "            datos.drop(datos[datos[\"puntos\"]==\"A\"].index, axis=0, inplace=True)\n",
    "            datos[\"nombre\"] = datos[\"nombre\"].str.title()\n",
    "            datos[\"category\"] = file.split(\".\")[0]\n",
    "            dataframes.append(datos)\n",
    "        \n",
    "        else:\n",
    "            sheetsDataFrames = pd.read_excel(pathFile, names=[\"nombre\", \"1\", \"2\", \"3\", \"4\", \"5\", \"6\", \"7\", \"8\"], usecols=\"A, F:M\", skiprows=5 , header=None, sheet_name = None)\n",
    "            for sheetName, dfSheet in sheetsDataFrames.items():\n",
    "                datos = pd.melt(dfSheet, id_vars=[\"nombre\"], value_vars=[\"1\", \"2\", \"3\", \"4\", \"5\", \"6\", \"7\", \"8\"], var_name=\"tournament\", value_name=\"puntos\")\n",
    "                datos.drop(datos[datos[\"puntos\"]==\"A\"].index, axis=0, inplace=True)\n",
    "                datos[\"nombre\"] = datos[\"nombre\"].str.title()\n",
    "                datos[\"category\"] = sheetName\n",
    "                dataframes.append(datos)"
   ]
  },
  {
   "cell_type": "code",
   "execution_count": 4,
   "metadata": {},
   "outputs": [
    {
     "data": {
      "text/html": [
       "<div>\n",
       "<style scoped>\n",
       "    .dataframe tbody tr th:only-of-type {\n",
       "        vertical-align: middle;\n",
       "    }\n",
       "\n",
       "    .dataframe tbody tr th {\n",
       "        vertical-align: top;\n",
       "    }\n",
       "\n",
       "    .dataframe thead th {\n",
       "        text-align: right;\n",
       "    }\n",
       "</style>\n",
       "<table border=\"1\" class=\"dataframe\">\n",
       "  <thead>\n",
       "    <tr style=\"text-align: right;\">\n",
       "      <th></th>\n",
       "      <th>nombre</th>\n",
       "      <th>tournament</th>\n",
       "      <th>puntos</th>\n",
       "      <th>category</th>\n",
       "    </tr>\n",
       "  </thead>\n",
       "  <tbody>\n",
       "    <tr>\n",
       "      <th>0</th>\n",
       "      <td>Burgos Morales Sebastian</td>\n",
       "      <td>1</td>\n",
       "      <td>3</td>\n",
       "      <td>Sub-8</td>\n",
       "    </tr>\n",
       "    <tr>\n",
       "      <th>1</th>\n",
       "      <td>Cariqueo Aguayo Sebastian</td>\n",
       "      <td>1</td>\n",
       "      <td>0</td>\n",
       "      <td>Sub-8</td>\n",
       "    </tr>\n",
       "    <tr>\n",
       "      <th>2</th>\n",
       "      <td>Carvajal Solis Cristobal</td>\n",
       "      <td>1</td>\n",
       "      <td>3.5</td>\n",
       "      <td>Sub-8</td>\n",
       "    </tr>\n",
       "    <tr>\n",
       "      <th>3</th>\n",
       "      <td>Cordova Vallejos Tomas</td>\n",
       "      <td>1</td>\n",
       "      <td>2</td>\n",
       "      <td>Sub-8</td>\n",
       "    </tr>\n",
       "    <tr>\n",
       "      <th>4</th>\n",
       "      <td>Fuentes Olivares Alan</td>\n",
       "      <td>1</td>\n",
       "      <td>5</td>\n",
       "      <td>Sub-8</td>\n",
       "    </tr>\n",
       "  </tbody>\n",
       "</table>\n",
       "</div>"
      ],
      "text/plain": [
       "                      nombre tournament puntos category\n",
       "0   Burgos Morales Sebastian          1      3    Sub-8\n",
       "1  Cariqueo Aguayo Sebastian          1      0    Sub-8\n",
       "2   Carvajal Solis Cristobal          1    3.5    Sub-8\n",
       "3     Cordova Vallejos Tomas          1      2    Sub-8\n",
       "4      Fuentes Olivares Alan          1      5    Sub-8"
      ]
     },
     "execution_count": 4,
     "metadata": {},
     "output_type": "execute_result"
    }
   ],
   "source": [
    "df_concat = pd.concat(dataframes, ignore_index = True)\n",
    "df_concat.head()"
   ]
  },
  {
   "cell_type": "code",
   "execution_count": 5,
   "metadata": {},
   "outputs": [
    {
     "data": {
      "text/html": [
       "<div>\n",
       "<style scoped>\n",
       "    .dataframe tbody tr th:only-of-type {\n",
       "        vertical-align: middle;\n",
       "    }\n",
       "\n",
       "    .dataframe tbody tr th {\n",
       "        vertical-align: top;\n",
       "    }\n",
       "\n",
       "    .dataframe thead th {\n",
       "        text-align: right;\n",
       "    }\n",
       "</style>\n",
       "<table border=\"1\" class=\"dataframe\">\n",
       "  <thead>\n",
       "    <tr style=\"text-align: right;\">\n",
       "      <th></th>\n",
       "      <th>nombre</th>\n",
       "      <th>tournament</th>\n",
       "      <th>puntos</th>\n",
       "      <th>category</th>\n",
       "      <th>year</th>\n",
       "    </tr>\n",
       "  </thead>\n",
       "  <tbody>\n",
       "    <tr>\n",
       "      <th>766</th>\n",
       "      <td>Gutierrez Tapia Ignacio</td>\n",
       "      <td>5</td>\n",
       "      <td>2</td>\n",
       "      <td>SIN RANKING</td>\n",
       "      <td>2023</td>\n",
       "    </tr>\n",
       "    <tr>\n",
       "      <th>767</th>\n",
       "      <td>Guzman Mora Carlos</td>\n",
       "      <td>5</td>\n",
       "      <td>2</td>\n",
       "      <td>SIN RANKING</td>\n",
       "      <td>2023</td>\n",
       "    </tr>\n",
       "    <tr>\n",
       "      <th>768</th>\n",
       "      <td>Monsalve Hidalgo Yasmin</td>\n",
       "      <td>5</td>\n",
       "      <td>1.5</td>\n",
       "      <td>SIN RANKING</td>\n",
       "      <td>2023</td>\n",
       "    </tr>\n",
       "    <tr>\n",
       "      <th>769</th>\n",
       "      <td>Morales Agustin</td>\n",
       "      <td>5</td>\n",
       "      <td>2</td>\n",
       "      <td>SIN RANKING</td>\n",
       "      <td>2023</td>\n",
       "    </tr>\n",
       "    <tr>\n",
       "      <th>770</th>\n",
       "      <td>Ulloa Gayoso Eduardo</td>\n",
       "      <td>5</td>\n",
       "      <td>1.5</td>\n",
       "      <td>SIN RANKING</td>\n",
       "      <td>2023</td>\n",
       "    </tr>\n",
       "  </tbody>\n",
       "</table>\n",
       "</div>"
      ],
      "text/plain": [
       "                      nombre tournament puntos     category  year\n",
       "766  Gutierrez Tapia Ignacio          5      2  SIN RANKING  2023\n",
       "767       Guzman Mora Carlos          5      2  SIN RANKING  2023\n",
       "768  Monsalve Hidalgo Yasmin          5    1.5  SIN RANKING  2023\n",
       "769          Morales Agustin          5      2  SIN RANKING  2023\n",
       "770     Ulloa Gayoso Eduardo          5    1.5  SIN RANKING  2023"
      ]
     },
     "execution_count": 5,
     "metadata": {},
     "output_type": "execute_result"
    }
   ],
   "source": [
    "df_concat[\"year\"] = \"2023\"\n",
    "df_concat.tail()"
   ]
  },
  {
   "cell_type": "code",
   "execution_count": 6,
   "metadata": {},
   "outputs": [],
   "source": [
    "df_concat.dropna(inplace=True)"
   ]
  },
  {
   "cell_type": "code",
   "execution_count": 7,
   "metadata": {},
   "outputs": [],
   "source": [
    "df_concat.set_index(\"nombre\", inplace = True)"
   ]
  },
  {
   "cell_type": "code",
   "execution_count": 8,
   "metadata": {},
   "outputs": [
    {
     "data": {
      "text/html": [
       "<div>\n",
       "<style scoped>\n",
       "    .dataframe tbody tr th:only-of-type {\n",
       "        vertical-align: middle;\n",
       "    }\n",
       "\n",
       "    .dataframe tbody tr th {\n",
       "        vertical-align: top;\n",
       "    }\n",
       "\n",
       "    .dataframe thead th {\n",
       "        text-align: right;\n",
       "    }\n",
       "</style>\n",
       "<table border=\"1\" class=\"dataframe\">\n",
       "  <thead>\n",
       "    <tr style=\"text-align: right;\">\n",
       "      <th></th>\n",
       "      <th>tournament</th>\n",
       "      <th>puntos</th>\n",
       "      <th>category</th>\n",
       "      <th>year</th>\n",
       "    </tr>\n",
       "    <tr>\n",
       "      <th>nombre</th>\n",
       "      <th></th>\n",
       "      <th></th>\n",
       "      <th></th>\n",
       "      <th></th>\n",
       "    </tr>\n",
       "  </thead>\n",
       "  <tbody>\n",
       "    <tr>\n",
       "      <th>Burgos Morales Sebastian</th>\n",
       "      <td>1</td>\n",
       "      <td>3</td>\n",
       "      <td>Sub-8</td>\n",
       "      <td>2023</td>\n",
       "    </tr>\n",
       "    <tr>\n",
       "      <th>Cariqueo Aguayo Sebastian</th>\n",
       "      <td>1</td>\n",
       "      <td>0</td>\n",
       "      <td>Sub-8</td>\n",
       "      <td>2023</td>\n",
       "    </tr>\n",
       "    <tr>\n",
       "      <th>Carvajal Solis Cristobal</th>\n",
       "      <td>1</td>\n",
       "      <td>3.5</td>\n",
       "      <td>Sub-8</td>\n",
       "      <td>2023</td>\n",
       "    </tr>\n",
       "    <tr>\n",
       "      <th>Cordova Vallejos Tomas</th>\n",
       "      <td>1</td>\n",
       "      <td>2</td>\n",
       "      <td>Sub-8</td>\n",
       "      <td>2023</td>\n",
       "    </tr>\n",
       "    <tr>\n",
       "      <th>Fuentes Olivares Alan</th>\n",
       "      <td>1</td>\n",
       "      <td>5</td>\n",
       "      <td>Sub-8</td>\n",
       "      <td>2023</td>\n",
       "    </tr>\n",
       "  </tbody>\n",
       "</table>\n",
       "</div>"
      ],
      "text/plain": [
       "                          tournament puntos category  year\n",
       "nombre                                                    \n",
       "Burgos Morales Sebastian           1      3    Sub-8  2023\n",
       "Cariqueo Aguayo Sebastian          1      0    Sub-8  2023\n",
       "Carvajal Solis Cristobal           1    3.5    Sub-8  2023\n",
       "Cordova Vallejos Tomas             1      2    Sub-8  2023\n",
       "Fuentes Olivares Alan              1      5    Sub-8  2023"
      ]
     },
     "execution_count": 8,
     "metadata": {},
     "output_type": "execute_result"
    }
   ],
   "source": [
    "df_concat.head()"
   ]
  },
  {
   "cell_type": "code",
   "execution_count": 12,
   "metadata": {},
   "outputs": [],
   "source": [
    "outputName = f\"ranking\"+year+\".csv\"\n",
    "df_concat.to_csv(outputName)"
   ]
  }
 ],
 "metadata": {
  "kernelspec": {
   "display_name": "Python 3",
   "language": "python",
   "name": "python3"
  },
  "language_info": {
   "codemirror_mode": {
    "name": "ipython",
    "version": 3
   },
   "file_extension": ".py",
   "mimetype": "text/x-python",
   "name": "python",
   "nbconvert_exporter": "python",
   "pygments_lexer": "ipython3",
   "version": "3.12.4"
  }
 },
 "nbformat": 4,
 "nbformat_minor": 2
}
